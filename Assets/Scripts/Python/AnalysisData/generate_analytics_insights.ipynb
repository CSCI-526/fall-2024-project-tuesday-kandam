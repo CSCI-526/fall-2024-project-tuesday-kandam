{
 "cells": [
  {
   "cell_type": "code",
   "execution_count": 76,
   "metadata": {},
   "outputs": [],
   "source": [
    "import numpy as np\n",
    "import pandas as pd\n",
    "import matplotlib.pyplot as plt\n",
    "import json\n",
    "import seaborn as sns\n",
    "import os"
   ]
  },
  {
   "cell_type": "code",
   "execution_count": 57,
   "metadata": {},
   "outputs": [
    {
     "data": {
      "text/html": [
       "<div>\n",
       "<style scoped>\n",
       "    .dataframe tbody tr th:only-of-type {\n",
       "        vertical-align: middle;\n",
       "    }\n",
       "\n",
       "    .dataframe tbody tr th {\n",
       "        vertical-align: top;\n",
       "    }\n",
       "\n",
       "    .dataframe thead th {\n",
       "        text-align: right;\n",
       "    }\n",
       "</style>\n",
       "<table border=\"1\" class=\"dataframe\">\n",
       "  <thead>\n",
       "    <tr style=\"text-align: right;\">\n",
       "      <th></th>\n",
       "      <th>Timestamp</th>\n",
       "      <th>SessionID</th>\n",
       "      <th>Most Common State</th>\n",
       "      <th>MCS Overall Data</th>\n",
       "      <th>MCS Data / Checkpoint</th>\n",
       "      <th>Respawn Counts</th>\n",
       "      <th>Diamond Collection Data</th>\n",
       "      <th>Heatmap Data</th>\n",
       "    </tr>\n",
       "  </thead>\n",
       "  <tbody>\n",
       "    <tr>\n",
       "      <th>0</th>\n",
       "      <td>11/11/2024 15:37:29</td>\n",
       "      <td>6.386694e+17</td>\n",
       "      <td>STATE_MED</td>\n",
       "      <td>{\"STATE_SMALL\": 11.25968, \"STATE_MED\": 122.971...</td>\n",
       "      <td>{\"Start\": {\"STATE_SMALL\": 7.519524, \"STATE_MED...</td>\n",
       "      <td>{\"Checkpoint 2\": 0, \"Checkpoint 3\": 1, \"Checkp...</td>\n",
       "      <td>{\"Start\": 25, \"Checkpoint 2\": 6, \"Checkpoint 3...</td>\n",
       "      <td>{\"keys\":[{\"x\":-17.0,\"y\":1.0},{\"x\":-17.0,\"y\":0....</td>\n",
       "    </tr>\n",
       "    <tr>\n",
       "      <th>1</th>\n",
       "      <td>11/11/2024 15:51:03</td>\n",
       "      <td>6.386690e+17</td>\n",
       "      <td>STATE_MED</td>\n",
       "      <td>{\"STATE_SMALL\": 6.088501, \"STATE_MED\": 78.9815...</td>\n",
       "      <td>{\"Start\": {\"STATE_SMALL\": 4.113617, \"STATE_MED...</td>\n",
       "      <td>{\"Checkpoint 2\": 0, \"Checkpoint 3\": 2, \"Checkp...</td>\n",
       "      <td>{\"Start\": 25, \"Checkpoint 2\": 6, \"Checkpoint 3...</td>\n",
       "      <td>{\"keys\":[{\"x\":-17.0,\"y\":1.0},{\"x\":-15.0,\"y\":2....</td>\n",
       "    </tr>\n",
       "    <tr>\n",
       "      <th>2</th>\n",
       "      <td>11/11/2024 15:57:16</td>\n",
       "      <td>6.386690e+17</td>\n",
       "      <td>STATE_MED</td>\n",
       "      <td>{\"STATE_SMALL\": 20.90089, \"STATE_MED\": 130.672...</td>\n",
       "      <td>{\"Start\": {\"STATE_SMALL\": 5.404799, \"STATE_MED...</td>\n",
       "      <td>{\"Checkpoint 2\": 0, \"Checkpoint 3\": 0, \"Checkp...</td>\n",
       "      <td>{\"Start\": 25, \"Checkpoint 2\": 6, \"Checkpoint 3...</td>\n",
       "      <td>{\"keys\":[{\"x\":-17.0,\"y\":1.0},{\"x\":-16.0,\"y\":1....</td>\n",
       "    </tr>\n",
       "    <tr>\n",
       "      <th>3</th>\n",
       "      <td>11/11/2024 16:33:54</td>\n",
       "      <td>6.386694e+17</td>\n",
       "      <td>STATE_MED</td>\n",
       "      <td>{\"STATE_SMALL\": 24.87566, \"STATE_MED\": 271.563...</td>\n",
       "      <td>{\"Start\": {\"STATE_SMALL\": 2.817657, \"STATE_MED...</td>\n",
       "      <td>{\"Checkpoint 1\": 0, \"Checkpoint 2\": 0, \"Checkp...</td>\n",
       "      <td>{\"Start\": 25, \"Checkpoint 1\": 6, \"Checkpoint 2...</td>\n",
       "      <td>{\"keys\":[{\"x\":-17.0,\"y\":1.0},{\"x\":-13.0,\"y\":4....</td>\n",
       "    </tr>\n",
       "  </tbody>\n",
       "</table>\n",
       "</div>"
      ],
      "text/plain": [
       "             Timestamp     SessionID Most Common State  \\\n",
       "0  11/11/2024 15:37:29  6.386694e+17         STATE_MED   \n",
       "1  11/11/2024 15:51:03  6.386690e+17         STATE_MED   \n",
       "2  11/11/2024 15:57:16  6.386690e+17         STATE_MED   \n",
       "3  11/11/2024 16:33:54  6.386694e+17         STATE_MED   \n",
       "\n",
       "                                    MCS Overall Data  \\\n",
       "0  {\"STATE_SMALL\": 11.25968, \"STATE_MED\": 122.971...   \n",
       "1  {\"STATE_SMALL\": 6.088501, \"STATE_MED\": 78.9815...   \n",
       "2  {\"STATE_SMALL\": 20.90089, \"STATE_MED\": 130.672...   \n",
       "3  {\"STATE_SMALL\": 24.87566, \"STATE_MED\": 271.563...   \n",
       "\n",
       "                               MCS Data / Checkpoint  \\\n",
       "0  {\"Start\": {\"STATE_SMALL\": 7.519524, \"STATE_MED...   \n",
       "1  {\"Start\": {\"STATE_SMALL\": 4.113617, \"STATE_MED...   \n",
       "2  {\"Start\": {\"STATE_SMALL\": 5.404799, \"STATE_MED...   \n",
       "3  {\"Start\": {\"STATE_SMALL\": 2.817657, \"STATE_MED...   \n",
       "\n",
       "                                      Respawn Counts  \\\n",
       "0  {\"Checkpoint 2\": 0, \"Checkpoint 3\": 1, \"Checkp...   \n",
       "1  {\"Checkpoint 2\": 0, \"Checkpoint 3\": 2, \"Checkp...   \n",
       "2  {\"Checkpoint 2\": 0, \"Checkpoint 3\": 0, \"Checkp...   \n",
       "3  {\"Checkpoint 1\": 0, \"Checkpoint 2\": 0, \"Checkp...   \n",
       "\n",
       "                             Diamond Collection Data  \\\n",
       "0  {\"Start\": 25, \"Checkpoint 2\": 6, \"Checkpoint 3...   \n",
       "1  {\"Start\": 25, \"Checkpoint 2\": 6, \"Checkpoint 3...   \n",
       "2  {\"Start\": 25, \"Checkpoint 2\": 6, \"Checkpoint 3...   \n",
       "3  {\"Start\": 25, \"Checkpoint 1\": 6, \"Checkpoint 2...   \n",
       "\n",
       "                                        Heatmap Data  \n",
       "0  {\"keys\":[{\"x\":-17.0,\"y\":1.0},{\"x\":-17.0,\"y\":0....  \n",
       "1  {\"keys\":[{\"x\":-17.0,\"y\":1.0},{\"x\":-15.0,\"y\":2....  \n",
       "2  {\"keys\":[{\"x\":-17.0,\"y\":1.0},{\"x\":-16.0,\"y\":1....  \n",
       "3  {\"keys\":[{\"x\":-17.0,\"y\":1.0},{\"x\":-13.0,\"y\":4....  "
      ]
     },
     "execution_count": 57,
     "metadata": {},
     "output_type": "execute_result"
    }
   ],
   "source": [
    "file_path = \"LevelAnalysis/LevelTwo/SpreadsheetData/Playtest_Level2_11_11_24.csv\"\n",
    "\n",
    "with open(file_path, \"r\") as file:\n",
    "    lines = file.readlines()\n",
    "\n",
    "filtered_lines = [line for line in lines if not (line.startswith(\"Link to form\") or line.strip(\",\\n\") == \"\")]\n",
    "\n",
    "# Convert filtered lines to a DataFrame\n",
    "from io import StringIO\n",
    "cleaned_csv = StringIO(\"\".join(filtered_lines))\n",
    "df = pd.read_csv(cleaned_csv)\n",
    "\n",
    "df.head()"
   ]
  },
  {
   "cell_type": "code",
   "execution_count": 58,
   "metadata": {},
   "outputs": [
    {
     "data": {
      "text/html": [
       "<div>\n",
       "<style scoped>\n",
       "    .dataframe tbody tr th:only-of-type {\n",
       "        vertical-align: middle;\n",
       "    }\n",
       "\n",
       "    .dataframe tbody tr th {\n",
       "        vertical-align: top;\n",
       "    }\n",
       "\n",
       "    .dataframe thead th {\n",
       "        text-align: right;\n",
       "    }\n",
       "</style>\n",
       "<table border=\"1\" class=\"dataframe\">\n",
       "  <thead>\n",
       "    <tr style=\"text-align: right;\">\n",
       "      <th></th>\n",
       "      <th>Timestamp</th>\n",
       "      <th>SessionID</th>\n",
       "      <th>Most Common State</th>\n",
       "      <th>MCS Overall Data</th>\n",
       "      <th>MCS Data / Checkpoint</th>\n",
       "      <th>Respawn Counts</th>\n",
       "      <th>Diamond Collection Data</th>\n",
       "      <th>Heatmap Data</th>\n",
       "    </tr>\n",
       "  </thead>\n",
       "  <tbody>\n",
       "    <tr>\n",
       "      <th>0</th>\n",
       "      <td>11/11/2024 15:37:29</td>\n",
       "      <td>0</td>\n",
       "      <td>STATE_MED</td>\n",
       "      <td>{\"STATE_SMALL\": 11.25968, \"STATE_MED\": 122.971...</td>\n",
       "      <td>{\"Start\": {\"STATE_SMALL\": 7.519524, \"STATE_MED...</td>\n",
       "      <td>{\"Checkpoint 2\": 0, \"Checkpoint 3\": 1, \"Checkp...</td>\n",
       "      <td>{\"Start\": 25, \"Checkpoint 2\": 6, \"Checkpoint 3...</td>\n",
       "      <td>{\"keys\":[{\"x\":-17.0,\"y\":1.0},{\"x\":-17.0,\"y\":0....</td>\n",
       "    </tr>\n",
       "    <tr>\n",
       "      <th>1</th>\n",
       "      <td>11/11/2024 15:51:03</td>\n",
       "      <td>1</td>\n",
       "      <td>STATE_MED</td>\n",
       "      <td>{\"STATE_SMALL\": 6.088501, \"STATE_MED\": 78.9815...</td>\n",
       "      <td>{\"Start\": {\"STATE_SMALL\": 4.113617, \"STATE_MED...</td>\n",
       "      <td>{\"Checkpoint 2\": 0, \"Checkpoint 3\": 2, \"Checkp...</td>\n",
       "      <td>{\"Start\": 25, \"Checkpoint 2\": 6, \"Checkpoint 3...</td>\n",
       "      <td>{\"keys\":[{\"x\":-17.0,\"y\":1.0},{\"x\":-15.0,\"y\":2....</td>\n",
       "    </tr>\n",
       "    <tr>\n",
       "      <th>2</th>\n",
       "      <td>11/11/2024 15:57:16</td>\n",
       "      <td>2</td>\n",
       "      <td>STATE_MED</td>\n",
       "      <td>{\"STATE_SMALL\": 20.90089, \"STATE_MED\": 130.672...</td>\n",
       "      <td>{\"Start\": {\"STATE_SMALL\": 5.404799, \"STATE_MED...</td>\n",
       "      <td>{\"Checkpoint 2\": 0, \"Checkpoint 3\": 0, \"Checkp...</td>\n",
       "      <td>{\"Start\": 25, \"Checkpoint 2\": 6, \"Checkpoint 3...</td>\n",
       "      <td>{\"keys\":[{\"x\":-17.0,\"y\":1.0},{\"x\":-16.0,\"y\":1....</td>\n",
       "    </tr>\n",
       "    <tr>\n",
       "      <th>3</th>\n",
       "      <td>11/11/2024 16:33:54</td>\n",
       "      <td>3</td>\n",
       "      <td>STATE_MED</td>\n",
       "      <td>{\"STATE_SMALL\": 24.87566, \"STATE_MED\": 271.563...</td>\n",
       "      <td>{\"Start\": {\"STATE_SMALL\": 2.817657, \"STATE_MED...</td>\n",
       "      <td>{\"Checkpoint 1\": 0, \"Checkpoint 2\": 0, \"Checkp...</td>\n",
       "      <td>{\"Start\": 25, \"Checkpoint 1\": 6, \"Checkpoint 2...</td>\n",
       "      <td>{\"keys\":[{\"x\":-17.0,\"y\":1.0},{\"x\":-13.0,\"y\":4....</td>\n",
       "    </tr>\n",
       "  </tbody>\n",
       "</table>\n",
       "</div>"
      ],
      "text/plain": [
       "             Timestamp  SessionID Most Common State  \\\n",
       "0  11/11/2024 15:37:29          0         STATE_MED   \n",
       "1  11/11/2024 15:51:03          1         STATE_MED   \n",
       "2  11/11/2024 15:57:16          2         STATE_MED   \n",
       "3  11/11/2024 16:33:54          3         STATE_MED   \n",
       "\n",
       "                                    MCS Overall Data  \\\n",
       "0  {\"STATE_SMALL\": 11.25968, \"STATE_MED\": 122.971...   \n",
       "1  {\"STATE_SMALL\": 6.088501, \"STATE_MED\": 78.9815...   \n",
       "2  {\"STATE_SMALL\": 20.90089, \"STATE_MED\": 130.672...   \n",
       "3  {\"STATE_SMALL\": 24.87566, \"STATE_MED\": 271.563...   \n",
       "\n",
       "                               MCS Data / Checkpoint  \\\n",
       "0  {\"Start\": {\"STATE_SMALL\": 7.519524, \"STATE_MED...   \n",
       "1  {\"Start\": {\"STATE_SMALL\": 4.113617, \"STATE_MED...   \n",
       "2  {\"Start\": {\"STATE_SMALL\": 5.404799, \"STATE_MED...   \n",
       "3  {\"Start\": {\"STATE_SMALL\": 2.817657, \"STATE_MED...   \n",
       "\n",
       "                                      Respawn Counts  \\\n",
       "0  {\"Checkpoint 2\": 0, \"Checkpoint 3\": 1, \"Checkp...   \n",
       "1  {\"Checkpoint 2\": 0, \"Checkpoint 3\": 2, \"Checkp...   \n",
       "2  {\"Checkpoint 2\": 0, \"Checkpoint 3\": 0, \"Checkp...   \n",
       "3  {\"Checkpoint 1\": 0, \"Checkpoint 2\": 0, \"Checkp...   \n",
       "\n",
       "                             Diamond Collection Data  \\\n",
       "0  {\"Start\": 25, \"Checkpoint 2\": 6, \"Checkpoint 3...   \n",
       "1  {\"Start\": 25, \"Checkpoint 2\": 6, \"Checkpoint 3...   \n",
       "2  {\"Start\": 25, \"Checkpoint 2\": 6, \"Checkpoint 3...   \n",
       "3  {\"Start\": 25, \"Checkpoint 1\": 6, \"Checkpoint 2...   \n",
       "\n",
       "                                        Heatmap Data  \n",
       "0  {\"keys\":[{\"x\":-17.0,\"y\":1.0},{\"x\":-17.0,\"y\":0....  \n",
       "1  {\"keys\":[{\"x\":-17.0,\"y\":1.0},{\"x\":-15.0,\"y\":2....  \n",
       "2  {\"keys\":[{\"x\":-17.0,\"y\":1.0},{\"x\":-16.0,\"y\":1....  \n",
       "3  {\"keys\":[{\"x\":-17.0,\"y\":1.0},{\"x\":-13.0,\"y\":4....  "
      ]
     },
     "execution_count": 58,
     "metadata": {},
     "output_type": "execute_result"
    }
   ],
   "source": [
    "# Map session id to a row index\n",
    "df[\"SessionID\"] = df.index\n",
    "df.head()"
   ]
  },
  {
   "cell_type": "code",
   "execution_count": 78,
   "metadata": {},
   "outputs": [
    {
     "data": {
      "text/plain": [
       "'{\"Start\": 25, \"Checkpoint 2\": 6, \"Checkpoint 3\": 8, \"Checkpoint 4\": 10, \"Checkpoint 5\": 4, \"Checkpoint 8\": 10, \"Checkpoint 9\": 17}'"
      ]
     },
     "execution_count": 78,
     "metadata": {},
     "output_type": "execute_result"
    }
   ],
   "source": [
    "df.iloc[0][\"Diamond Collection Data\"]"
   ]
  },
  {
   "cell_type": "code",
   "execution_count": 59,
   "metadata": {},
   "outputs": [],
   "source": [
    "def save_plot(figure, save_path):\n",
    "    figure.savefig(save_path)\n",
    "    plt.close(figure)"
   ]
  },
  {
   "cell_type": "code",
   "execution_count": 60,
   "metadata": {},
   "outputs": [],
   "source": [
    "def plot_mcs_data_overall(datapoint):\n",
    "   states = list(datapoint.keys())\n",
    "   fig = plt.figure(figsize=(10, 6))\n",
    "   time_spent = list(datapoint.values())\n",
    "\n",
    "   plt.bar(states, time_spent, color='skyblue')\n",
    "   plt.title(\"Total Most Common State Data\")\n",
    "   plt.xlabel(\"State\")\n",
    "   plt.ylabel(\"Time Spent\")\n",
    "   \n",
    "   return fig"
   ]
  },
  {
   "cell_type": "code",
   "execution_count": null,
   "metadata": {},
   "outputs": [],
   "source": [
    "datapoint = json.loads(df.iloc[0][\"MCS Overall Data\"])\n",
    "graph = plot_mcs_data_overall(data)\n",
    "save_plot(graph, \"LevelAnalysis/LevelTwo/Insights/Player0/MCSOverallData.png\")\n"
   ]
  },
  {
   "cell_type": "code",
   "execution_count": 62,
   "metadata": {},
   "outputs": [],
   "source": [
    "def plot_mcs_data_checkpoint(datapoint):\n",
    "    temp_df = pd.DataFrame(datapoint).T\n",
    "    fig = plt.figure(figsize=(10, 6))\n",
    "    sns.heatmap(temp_df, annot=True, cmap=\"YlGnBu\", fmt=\".2f\", cbar_kws={'label': 'Time Spent'})\n",
    "    plt.title(\"Time Spent in Different States at Each Checkpoint\")\n",
    "    plt.xlabel(\"Player State\")\n",
    "    plt.ylabel(\"Checkpoint\")\n",
    "    return fig\n"
   ]
  },
  {
   "cell_type": "code",
   "execution_count": 63,
   "metadata": {},
   "outputs": [],
   "source": [
    "data = json.loads(df.iloc[0][\"MCS Data / Checkpoint\"])\n",
    "graph = plot_mcs_data_checkpoint(data)\n",
    "save_plot(graph, \"LevelAnalysis/LevelTwo/Insights/Player0/MCSDataCheckpoint.png\")"
   ]
  },
  {
   "cell_type": "code",
   "execution_count": null,
   "metadata": {},
   "outputs": [],
   "source": [
    "def plot_multi_dictionary(datapoint, graph_type, level):\n",
    "    checkpoints = list(datapoint.keys())\n",
    "    fig = plt.figure(figsize=(10, 6))\n",
    "    counts = list(datapoint.values())\n",
    "\n",
    "    if graph_type == \"respawn\":\n",
    "\n",
    "        plt.bar(checkpoints, counts, color='skyblue')\n",
    "        plt.title(\"Respawn Counts at Each Checkpoint\")\n",
    "        plt.xlabel(\"Checkpoint\")\n",
    "        plt.ylabel(\"Respawn Count\")\n",
    "\n",
    "    elif graph_type == \"diamonds\":\n",
    "        # TODO: Implement this\n",
    "        if level == 2:\n",
    "            total_diamonds = 3\n",
    "\n",
    "        \n",
    "        plt.bar(checkpoints, counts, color='orange')\n",
    "        plt.title(\"Diamond Counts at Each Checkpoint\")\n",
    "        plt.xlabel(\"Checkpoint\")\n",
    "        plt.ylabel(\"Diamond Count\")\n",
    "\n",
    "    return fig\n"
   ]
  },
  {
   "cell_type": "code",
   "execution_count": 65,
   "metadata": {},
   "outputs": [],
   "source": [
    "data_respawn = json.loads(df.iloc[0][\"Respawn Counts\"])\n",
    "graph_respawn = plot_multi_dictionary(data_respawn, \"respawn\")\n",
    "save_plot(graph_respawn, \"LevelAnalysis/LevelTwo/Insights/Player0/RespawnCounts.png\")\n",
    "data_diamonds = json.loads(df.iloc[0][\"Diamond Collection Data\"])\n",
    "graph_diamonds = plot_multi_dictionary(data_diamonds, \"diamonds\")\n",
    "save_plot(graph_diamonds, \"LevelAnalysis/LevelTwo/Insights/Player0/DiamondCounts.png\")"
   ]
  },
  {
   "cell_type": "code",
   "execution_count": 66,
   "metadata": {},
   "outputs": [
    {
     "data": {
      "image/png": "[encoded data removed]",
      "text/plain": [
       "<Figure size 1000x600 with 1 Axes>"
      ]
     },
     "execution_count": 66,
     "metadata": {},
     "output_type": "execute_result"
    },
    {
     "data": {
      "image/png": "[encoded data removed]",
      "text/plain": [
       "<Figure size 1000x600 with 1 Axes>"
      ]
     },
     "metadata": {},
     "output_type": "display_data"
    }
   ],
   "source": [
    "data = json.loads(df.iloc[0][\"Diamond Collection Data\"])\n",
    "plot_multi_dictionary(data, \"diamonds\")"
   ]
  },
  {
   "cell_type": "code",
   "execution_count": 72,
   "metadata": {},
   "outputs": [],
   "source": [
    "def plot_heatmap_data(datapoint):\n",
    "\n",
    "   x_coords = [point['x'] for point in datapoint['keys']]\n",
    "   y_coords = [point['y'] for point in datapoint['keys']]\n",
    "   values = datapoint['values']\n",
    "\n",
    "   grid_size = 50\n",
    "   heatmap, xedges, yedges = np.histogram2d(x_coords, y_coords, bins=grid_size, weights=values)\n",
    "   extent = [xedges[0], xedges[-1], yedges[0], yedges[-1]]\n",
    "\n",
    "   fig = plt.figure(figsize=(18, 12))\n",
    "\n",
    "   # Option 1: Set `vmin` and `vmax` for higher contrast\n",
    "   plt.subplot(2, 2, 1)\n",
    "   plt.imshow(heatmap.T, extent=extent, origin='lower', cmap='YlOrRd', vmin=0, vmax=np.percentile(values, 90))\n",
    "   plt.colorbar(label='Intensity')\n",
    "   plt.title(\"Option 1: Adjust `vmin` and `vmax`\")\n",
    "   plt.xlabel(\"X-axis\")\n",
    "   plt.ylabel(\"Y-axis\")\n",
    "\n",
    "   # Option 2: Use a different color map (e.g., 'hot')\n",
    "   plt.subplot(2, 2, 2)\n",
    "   plt.imshow(heatmap.T, extent=extent, origin='lower', cmap='hot')\n",
    "   plt.colorbar(label='Intensity')\n",
    "   plt.title(\"Option 2: Use 'hot' Color Map\")\n",
    "   plt.xlabel(\"X-axis\")\n",
    "   plt.ylabel(\"Y-axis\")\n",
    "\n",
    "   # Option 3: Scale the weights to increase intensity\n",
    "   scaled_values = [v * 1.5 for v in values]  # Adjust the multiplier as needed\n",
    "   heatmap_scaled, _, _ = np.histogram2d(x_coords, y_coords, bins=grid_size, weights=scaled_values)\n",
    "   plt.subplot(2, 2, 3)\n",
    "   plt.imshow(heatmap_scaled.T, extent=extent, origin='lower', cmap='YlOrRd')\n",
    "   plt.colorbar(label='Intensity')\n",
    "   plt.title(\"Option 3: Scale Weights\")\n",
    "   plt.xlabel(\"X-axis\")\n",
    "   plt.ylabel(\"Y-axis\")\n",
    "\n",
    "   # Option 4: Apply logarithmic scaling for more detail in a wide range of values\n",
    "   plt.subplot(2, 2, 4)\n",
    "   plt.imshow(np.log1p(heatmap.T), extent=extent, origin='lower', cmap='YlOrRd')\n",
    "   plt.colorbar(label='Intensity')\n",
    "   plt.title(\"Option 4: Logarithmic Scaling\")\n",
    "   plt.xlabel(\"X-axis\")\n",
    "   plt.ylabel(\"Y-axis\")\n",
    "\n",
    "   plt.tight_layout()\n",
    "   # plt.show()\n",
    "   return fig\n"
   ]
  },
  {
   "cell_type": "code",
   "execution_count": 74,
   "metadata": {},
   "outputs": [],
   "source": [
    "data = json.loads(df.iloc[0][\"Heatmap Data\"])\n",
    "graph = plot_heatmap_data(data)\n",
    "save_plot(graph, \"LevelAnalysis/LevelTwo/Insights/Player0/HeatmapData.png\")"
   ]
  },
  {
   "cell_type": "code",
   "execution_count": 77,
   "metadata": {},
   "outputs": [
    {
     "name": "stdout",
     "output_type": "stream",
     "text": [
      "Generating insights for player 0\n",
      "Generating insights for player 1\n",
      "Generating insights for player 2\n",
      "Generating insights for player 3\n"
     ]
    }
   ],
   "source": [
    "for i in range(0, len(df)):\n",
    "    print(f\"Generating insights for player {i}\")\n",
    "    if not os.path.exists(f\"LevelAnalysis/LevelTwo/Insights/Player{i}\"):\n",
    "        os.makedirs(f\"LevelAnalysis/LevelTwo/Insights/Player{i}\")\n",
    "    \n",
    "    data = json.loads(df.iloc[i][\"MCS Overall Data\"])\n",
    "    graph = plot_mcs_data_overall(data)\n",
    "    save_plot(graph, f\"LevelAnalysis/LevelTwo/Insights/Player{i}/MCSOverallData.png\")\n",
    "\n",
    "    data = json.loads(df.iloc[i][\"MCS Data / Checkpoint\"])\n",
    "    graph = plot_mcs_data_checkpoint(data)\n",
    "    save_plot(graph, f\"LevelAnalysis/LevelTwo/Insights/Player{i}/MCSDataCheckpoint.png\")\n",
    "\n",
    "    data_respawn = json.loads(df.iloc[i][\"Respawn Counts\"])\n",
    "    graph_respawn = plot_multi_dictionary(data_respawn, \"respawn\")\n",
    "    save_plot(graph_respawn, f\"LevelAnalysis/LevelTwo/Insights/Player{i}/RespawnCounts.png\")\n",
    "\n",
    "    data_diamonds = json.loads(df.iloc[i][\"Diamond Collection Data\"])\n",
    "    graph_diamonds = plot_multi_dictionary(data_diamonds, \"diamonds\")\n",
    "    save_plot(graph_diamonds, f\"LevelAnalysis/LevelTwo/Insights/Player{i}/DiamondCounts.png\")\n",
    "\n",
    "    data = json.loads(df.iloc[i][\"Heatmap Data\"])\n",
    "    graph = plot_heatmap_data(data)\n",
    "    save_plot(graph, f\"LevelAnalysis/LevelTwo/Insights/Player{i}/HeatmapData.png\")"
   ]
  },
  {
   "cell_type": "code",
   "execution_count": null,
   "metadata": {},
   "outputs": [],
   "source": [
    "# Overall insights\n",
    "\n",
    "# Total time spent in each state across all players (maybe a pie chart?)\n",
    "# Total diamonds collected per player (not across checkpoints?)"
   ]
  },
  {
   "cell_type": "code",
   "execution_count": null,
   "metadata": {},
   "outputs": [
    {
     "data": {
      "image/png": "[encoded data removed]",
      "text/plain": [
       "<Figure size 1000x600 with 1 Axes>"
      ]
     },
     "metadata": {},
     "output_type": "display_data"
    }
   ],
   "source": [
    "total_diamonds = {\n",
    "    \"Level 1\": {\n",
    "        \"Start\": 9,\n",
    "        \"Checkpoint 1\": 10,\n",
    "        \"Checkpoint 2\": 23,\n",
    "        \"Checkpoint 3\": 23,\n",
    "    },\n",
    "    \"Level 2\": {\n",
    "        \"Start\": 24, # start to c1\n",
    "        \"Checkpoint 1\": 6, # c1 to c2\n",
    "        \"Checkpoint 2\": 5, # c2 to c3\n",
    "        \"Checkpoint 3\": 10, # c3 to c4\n",
    "        \"Checkpoint 4\": 9, # c4 to c5\n",
    "        \"Checkpoint 5\": 21, # c5 to c6\n",
    "        \"Checkpoint 6\": 5, # c6 to c7\n",
    "        \"Checkpoint 7\": 12, # c7 to c8\n",
    "        \"Checkpoint 8\": 14, # c8 to c9 \n",
    "    }\n",
    "}\n",
    "\n",
    "def plot_diamonds(data_diamonds, level):\n",
    "    checkpoints = list(data_diamonds.keys())\n",
    "    data_diamonds[\"Checkpoint 4\"] = 4 if \"Checkpoint 7\" in data_diamonds else 9\n",
    "\n",
    "    level_total_diamonds = total_diamonds.get(level, {})\n",
    "    \n",
    "    obtained_counts = [data_diamonds.get(checkpoint, 0) for checkpoint in checkpoints]\n",
    "    \n",
    "    missed_counts = [level_total_diamonds.get(checkpoint, 0) - obtained for checkpoint, obtained in zip(checkpoints, obtained_counts)]\n",
    "    \n",
    "    bar_width = 0.35\n",
    "    x = np.arange(len(checkpoints))\n",
    "   \n",
    "    fig = plt.figure(figsize=(max(10, len(checkpoints)), 6)) \n",
    "    plt.bar(x - bar_width / 2, obtained_counts, bar_width, label='Diamonds Obtained', color='orange')\n",
    "    plt.bar(x + bar_width / 2, missed_counts, bar_width, label='Diamonds Missed', color='lightcoral')\n",
    "\n",
    "    for i, count in enumerate(obtained_counts):\n",
    "        plt.text(x[i] - bar_width / 2, count + 0.5, str(count), ha='center', color='orange', fontweight='bold')\n",
    "\n",
    "    for i, count in enumerate(missed_counts):\n",
    "        plt.text(x[i] + bar_width / 2, count + 0.5, str(count), ha='center', color='lightcoral', fontweight='bold')\n",
    "    \n",
    "    plt.title(f\"Diamond Counts at Each Checkpoint - {level}\")\n",
    "    plt.xlabel(\"Checkpoint\")\n",
    "    plt.ylabel(\"Diamond Count\")\n",
    "\n",
    "    plt.xticks(ticks=x, labels=checkpoints, rotation=45, ha='right')\n",
    "    plt.legend()\n",
    "    \n",
    "    return fig\n",
    "\n",
    "data_diamonds_level2 = {\"Start\": 6, \"Checkpoint 1\": 10, \"Checkpoint 2\": 23, \"Checkpoint 3\": 14}\n",
    "fig_diamonds_level2 = plot_diamonds(data_diamonds_level2, \"Level 2\")\n",
    "plt.show()\n"
   ]
  },
  {
   "cell_type": "code",
   "execution_count": null,
   "metadata": {},
   "outputs": [],
   "source": []
  }
 ],
 "metadata": {
  "kernelspec": {
   "display_name": "base",
   "language": "python",
   "name": "python3"
  },
  "language_info": {
   "codemirror_mode": {
    "name": "ipython",
    "version": 3
   },
   "file_extension": ".py",
   "mimetype": "text/x-python",
   "name": "python",
   "nbconvert_exporter": "python",
   "pygments_lexer": "ipython3",
   "version": "3.9.13"
  }
 },
 "nbformat": 4,
 "nbformat_minor": 2
}
